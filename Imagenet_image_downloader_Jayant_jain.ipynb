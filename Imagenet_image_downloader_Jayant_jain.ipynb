{
 "cells": [
  {
   "cell_type": "code",
   "execution_count": 1,
   "metadata": {
    "ExecuteTime": {
     "end_time": "2019-05-08T11:25:43.903484Z",
     "start_time": "2019-05-08T11:25:43.577358Z"
    }
   },
   "outputs": [],
   "source": [
    "\n",
    "from bs4 import BeautifulSoup\n",
    "import numpy as np\n",
    "import requests\n",
    "import time\n",
    "import PIL.Image\n",
    "import urllib"
   ]
  },
  {
   "cell_type": "markdown",
   "metadata": {},
   "source": [
    "# Changes and writing in this block only(sysnet id and location changes) for a particular class u want to downlaod images for.For every class ,you should change the \"synset_nme\" and \"classname\".\n"
   ]
  },
  {
   "cell_type": "code",
   "execution_count": 37,
   "metadata": {
    "ExecuteTime": {
     "end_time": "2019-05-08T12:02:26.724887Z",
     "start_time": "2019-05-08T12:02:26.719900Z"
    }
   },
   "outputs": [
    {
     "name": "stdout",
     "output_type": "stream",
     "text": [
      "Directory  C:\\Users\\Jayant\\Desktop\\root\\image_url\\racecar\\  already exists\n"
     ]
    }
   ],
   "source": [
    "\n",
    "# enter sysnset id above to know which class u want to download.(entered manually 10 different ids)\n",
    "synset_name=\"n04254680\"\n",
    "\n",
    "destination_f=\"C:\\\\Users\\\\Jayant\\\\Desktop\\\\root\\\\image_url\"# change this to ur destination folder where to make class folder\n",
    "classname=\"racecar\"   #enter classname u want to give\n",
    "##################3\n",
    "\n",
    "\n",
    "import os\n",
    "dirName = destination_f+\"\\\\\"+classname+\"\\\\\"\n",
    "# Create target directory & all intermediate directories if don't exists\n",
    "   \n",
    "try:\n",
    "    os.makedirs(dirName+\"train\")\n",
    "    os.makedirs(dirName+\"test\")\n",
    "    os.makedirs(dirName+\"validation\")\n",
    "    \n",
    "    print(\"Directory \" , dirName ,  \" Created \")\n",
    "except FileExistsError:\n",
    "    print(\"Directory \" , dirName ,  \" already exists\")  "
   ]
  },
  {
   "cell_type": "code",
   "execution_count": null,
   "metadata": {},
   "outputs": [],
   "source": []
  },
  {
   "cell_type": "code",
   "execution_count": null,
   "metadata": {},
   "outputs": [],
   "source": []
  },
  {
   "cell_type": "code",
   "execution_count": null,
   "metadata": {},
   "outputs": [],
   "source": []
  },
  {
   "cell_type": "code",
   "execution_count": 18,
   "metadata": {
    "ExecuteTime": {
     "end_time": "2019-05-08T11:40:07.244807Z",
     "start_time": "2019-05-08T11:40:07.241820Z"
    }
   },
   "outputs": [],
   "source": [
    "import csv\n",
    "import numpy as np\n",
    "img_rows, img_cols = 32, 32 \n",
    "input_shape = (img_rows, img_cols, 3)"
   ]
  },
  {
   "cell_type": "code",
   "execution_count": null,
   "metadata": {
    "colab": {
     "base_uri": "https://localhost:8080/",
     "height": 55
    },
    "colab_type": "code",
    "id": "2ihabI0hUjuh",
    "outputId": "5211d853-a9a1-4f3d-c824-16efba8fbaee"
   },
   "outputs": [],
   "source": [
    "\n",
    "page = requests.get(\"http://www.image-net.org/api/text/imagenet.synset.geturls?wnid=\"+synset_name)# synset\n",
    "#print(page.content)\n",
    "soup = BeautifulSoup(page.content, 'html.parser')\n",
    "print(soup.prettify())"
   ]
  },
  {
   "cell_type": "code",
   "execution_count": 8,
   "metadata": {
    "ExecuteTime": {
     "end_time": "2019-05-08T11:26:43.434151Z",
     "start_time": "2019-05-08T11:26:43.425177Z"
    }
   },
   "outputs": [
    {
     "name": "stdout",
     "output_type": "stream",
     "text": [
      "1344\n"
     ]
    }
   ],
   "source": [
    "str_soup=str(soup)\n",
    "type(str_soup)\n",
    "split_urls=str_soup.split('\\r\\n')#split \n",
    "print(len(split_urls))#displays lengths of image urls.Most of these links are active but some are not actually"
   ]
  },
  {
   "cell_type": "code",
   "execution_count": 26,
   "metadata": {
    "ExecuteTime": {
     "end_time": "2019-05-08T11:50:57.779709Z",
     "start_time": "2019-05-08T11:50:57.768690Z"
    }
   },
   "outputs": [],
   "source": [
    "\n",
    "\n",
    "with open(destination_f+\"\\\\\"+ classname+\"\\\\\"+classname+\".csv\", 'w',encoding=\"utf-8\") as f:\n",
    "    writer = csv.writer(f)\n",
    "    for val in split_urls:\n",
    "        writer.writerow([val])\n",
    "#here I saved the links in csv file for total no of images of a particular class"
   ]
  },
  {
   "cell_type": "code",
   "execution_count": 27,
   "metadata": {
    "ExecuteTime": {
     "end_time": "2019-05-08T11:52:55.825290Z",
     "start_time": "2019-05-08T11:52:55.820346Z"
    }
   },
   "outputs": [],
   "source": [
    "import cv2\n",
    "def downloader(url):\n",
    "\n",
    "    resp = urllib.request.urlopen(url)\n",
    "    time.sleep(1);#       remove this line if u want fast downloading trade-in for few images not being downloaded\n",
    "    image = np.asarray(bytearray(resp.read()), dtype=\"uint8\")\n",
    "    image = cv2.imdecode(image, cv2.IMREAD_COLOR)#decoding colored image rgb\n",
    "\n",
    "\n",
    "    return image\n",
    "\n",
    "#converting url to image "
   ]
  },
  {
   "cell_type": "code",
   "execution_count": 24,
   "metadata": {
    "ExecuteTime": {
     "end_time": "2019-05-08T11:49:38.661535Z",
     "start_time": "2019-05-08T11:49:38.654520Z"
    }
   },
   "outputs": [],
   "source": [
    "import csv\n",
    "#opening csv file and storing urls in loadurl variable as list\n",
    "with open(destination_f+\"\\\\\"+ classname+\"\\\\\"+classname+\".csv\", 'r', encoding='utf-8') as f:\n",
    "    reader = csv.reader(f)\n",
    "    loadurl1 = list(reader)\n",
    "    "
   ]
  },
  {
   "cell_type": "code",
   "execution_count": null,
   "metadata": {},
   "outputs": [],
   "source": [
    "loadurl = list(filter(lambda x : x != [], loadurl1))\n",
    "loadurl\n",
    "#loading and filtering saved urls"
   ]
  },
  {
   "cell_type": "code",
   "execution_count": 30,
   "metadata": {
    "ExecuteTime": {
     "end_time": "2019-05-08T11:53:50.690408Z",
     "start_time": "2019-05-08T11:53:41.463222Z"
    },
    "colab": {
     "base_uri": "https://localhost:8080/",
     "height": 312
    },
    "colab_type": "code",
    "id": "IfvdvHYElJdS",
    "outputId": "49311238-ca5b-40a9-94d8-62504855c4bc"
   },
   "outputs": [
    {
     "name": "stdout",
     "output_type": "stream",
     "text": [
      "0\n"
     ]
    }
   ],
   "source": [
    "#train images(700 expected)\n",
    "\n",
    "\n",
    "_training_images=700   #the number of training images to use\n",
    "\n",
    "for progressf in range(_training_images):\n",
    "    \n",
    "    if(progressf%20==0):\n",
    "        print(progressf)\n",
    "    if not loadurl[progressf][0] == None:\n",
    "        try:\n",
    "            I = downloader(loadurl[progressf][0])\n",
    "    #             print(\"jj\")\n",
    "\n",
    "            if (len(I.shape))>1:\n",
    "                save_path = destination_f+\"\\\\\"+ classname+ \"\\\\train\\\\\"+str(progressf)+'.jpg'#train folder has saved images\n",
    "                cv2.imwrite(save_path,I)# saving images got from downloadder function\n",
    "        except:\n",
    "\n",
    "            None\n",
    "\n",
    "        \n",
    " "
   ]
  },
  {
   "cell_type": "code",
   "execution_count": 22,
   "metadata": {
    "ExecuteTime": {
     "end_time": "2019-05-08T11:43:51.624723Z",
     "start_time": "2019-05-08T11:43:35.072994Z"
    }
   },
   "outputs": [
    {
     "name": "stdout",
     "output_type": "stream",
     "text": [
      "0\n"
     ]
    }
   ],
   "source": [
    "#validdation(300 expected)\n",
    "for progress in range(300):#change number in loop to set no of images for validation.default is 300\n",
    "    if(progress%20==0):\n",
    "        print(progress)\n",
    "    if not loadurl[progress] == None:\n",
    "        try:\n",
    "            I = downloader(loadurl[700+progress][0])\n",
    "            if (len(I.shape))>1:\n",
    "                save_path = destination_f+\"\\\\\"+ classname+\"\\\\validation\\\\\"+\"val\"+str(progress)+'.jpg'#validation folder has saved\n",
    "                cv2.imwrite(save_path,I)\n",
    "        except:\n",
    "            None"
   ]
  },
  {
   "cell_type": "code",
   "execution_count": 14,
   "metadata": {
    "ExecuteTime": {
     "end_time": "2019-05-07T18:00:57.416075Z",
     "start_time": "2019-05-07T17:55:53.148801Z"
    }
   },
   "outputs": [
    {
     "name": "stdout",
     "output_type": "stream",
     "text": [
      "0\n",
      "20\n",
      "40\n",
      "60\n",
      "80\n"
     ]
    }
   ],
   "source": [
    "#test images(100 expected\n",
    "for progress1 in range(100):#change number in loop to set no of images for testing.default is 100\n",
    "    if(progress1%20==0):\n",
    "        print(progress1)\n",
    "    if not loadurl[progress1] == None:\n",
    "        try:\n",
    "            I = downloader(loadurl[700+300+progress1][0])\n",
    "            if (len(I.shape))>1:\n",
    "                save_path = destination_f+\"\\\\\"+ classname+\"\\\\test\\\\\"+\"test\"+str(progress1)+'.jpg'#test folder has saved\n",
    "                cv2.imwrite(save_path,I)\n",
    "        except:\n",
    "            None"
   ]
  }
 ],
 "metadata": {
  "accelerator": "GPU",
  "colab": {
   "name": "Post How to get Images from ImageNet with Python in Google Colaboratory.ipynb",
   "provenance": [],
   "version": "0.3.2"
  },
  "kernelspec": {
   "display_name": "Python 3",
   "language": "python",
   "name": "python3"
  },
  "language_info": {
   "codemirror_mode": {
    "name": "ipython",
    "version": 3
   },
   "file_extension": ".py",
   "mimetype": "text/x-python",
   "name": "python",
   "nbconvert_exporter": "python",
   "pygments_lexer": "ipython3",
   "version": "3.6.5"
  },
  "varInspector": {
   "cols": {
    "lenName": 16,
    "lenType": 16,
    "lenVar": 40
   },
   "kernels_config": {
    "python": {
     "delete_cmd_postfix": "",
     "delete_cmd_prefix": "del ",
     "library": "var_list.py",
     "varRefreshCmd": "print(var_dic_list())"
    },
    "r": {
     "delete_cmd_postfix": ") ",
     "delete_cmd_prefix": "rm(",
     "library": "var_list.r",
     "varRefreshCmd": "cat(var_dic_list()) "
    }
   },
   "types_to_exclude": [
    "module",
    "function",
    "builtin_function_or_method",
    "instance",
    "_Feature"
   ],
   "window_display": false
  }
 },
 "nbformat": 4,
 "nbformat_minor": 1
}
